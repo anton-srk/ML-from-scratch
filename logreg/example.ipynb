{
 "cells": [
  {
   "cell_type": "code",
   "execution_count": 243,
   "metadata": {},
   "outputs": [],
   "source": [
    "import numpy as np\n",
    "import pandas as pd\n",
    "import re\n",
    "import nltk\n",
    "import string\n",
    "from collections import defaultdict\n",
    "\n",
    "from tqdm.notebook import tqdm\n",
    "\n",
    "from scipy.sparse import csr_matrix, hstack\n",
    "\n",
    "from sklearn.feature_extraction.text import TfidfVectorizer\n",
    "from sklearn.linear_model import LogisticRegression\n",
    "from sklearn.model_selection import train_test_split\n",
    "from sklearn.metrics import balanced_accuracy_score\n",
    "\n",
    "from modules.linear_model import LinearModel\n",
    "from modules.losses import BinaryLogisticLoss\n",
    "\n",
    "import matplotlib.pyplot as plt"
   ]
  },
  {
   "cell_type": "code",
   "execution_count": 183,
   "metadata": {},
   "outputs": [],
   "source": [
    "train_data = pd.read_csv('toxic_train_test_data/train.csv')\n",
    "test_data = pd.read_csv('toxic_train_test_data/test.csv')"
   ]
  },
  {
   "cell_type": "code",
   "execution_count": 184,
   "metadata": {},
   "outputs": [
    {
     "data": {
      "text/html": [
       "<div>\n",
       "<style scoped>\n",
       "    .dataframe tbody tr th:only-of-type {\n",
       "        vertical-align: middle;\n",
       "    }\n",
       "\n",
       "    .dataframe tbody tr th {\n",
       "        vertical-align: top;\n",
       "    }\n",
       "\n",
       "    .dataframe thead th {\n",
       "        text-align: right;\n",
       "    }\n",
       "</style>\n",
       "<table border=\"1\" class=\"dataframe\">\n",
       "  <thead>\n",
       "    <tr style=\"text-align: right;\">\n",
       "      <th></th>\n",
       "      <th>comment_text</th>\n",
       "      <th>is_toxic</th>\n",
       "      <th>toxic_level</th>\n",
       "      <th>insult</th>\n",
       "      <th>obscene</th>\n",
       "      <th>obscene_and_insult</th>\n",
       "      <th>no_obscene_no_insult</th>\n",
       "    </tr>\n",
       "  </thead>\n",
       "  <tbody>\n",
       "    <tr>\n",
       "      <th>0</th>\n",
       "      <td>Explanation\\nWhy the edits made under my usern...</td>\n",
       "      <td>0</td>\n",
       "      <td>0</td>\n",
       "      <td>0</td>\n",
       "      <td>0</td>\n",
       "      <td>0</td>\n",
       "      <td>0</td>\n",
       "    </tr>\n",
       "    <tr>\n",
       "      <th>1</th>\n",
       "      <td>D'aww! He matches this background colour I'm s...</td>\n",
       "      <td>0</td>\n",
       "      <td>0</td>\n",
       "      <td>0</td>\n",
       "      <td>0</td>\n",
       "      <td>0</td>\n",
       "      <td>0</td>\n",
       "    </tr>\n",
       "    <tr>\n",
       "      <th>2</th>\n",
       "      <td>Hey man, I'm really not trying to edit war. It...</td>\n",
       "      <td>0</td>\n",
       "      <td>0</td>\n",
       "      <td>0</td>\n",
       "      <td>0</td>\n",
       "      <td>0</td>\n",
       "      <td>0</td>\n",
       "    </tr>\n",
       "    <tr>\n",
       "      <th>3</th>\n",
       "      <td>\"\\nMore\\nI can't make any real suggestions on ...</td>\n",
       "      <td>0</td>\n",
       "      <td>0</td>\n",
       "      <td>0</td>\n",
       "      <td>0</td>\n",
       "      <td>0</td>\n",
       "      <td>0</td>\n",
       "    </tr>\n",
       "    <tr>\n",
       "      <th>4</th>\n",
       "      <td>You, sir, are my hero. Any chance you remember...</td>\n",
       "      <td>0</td>\n",
       "      <td>0</td>\n",
       "      <td>0</td>\n",
       "      <td>0</td>\n",
       "      <td>0</td>\n",
       "      <td>0</td>\n",
       "    </tr>\n",
       "  </tbody>\n",
       "</table>\n",
       "</div>"
      ],
      "text/plain": [
       "                                        comment_text  is_toxic  toxic_level  \\\n",
       "0  Explanation\\nWhy the edits made under my usern...         0            0   \n",
       "1  D'aww! He matches this background colour I'm s...         0            0   \n",
       "2  Hey man, I'm really not trying to edit war. It...         0            0   \n",
       "3  \"\\nMore\\nI can't make any real suggestions on ...         0            0   \n",
       "4  You, sir, are my hero. Any chance you remember...         0            0   \n",
       "\n",
       "   insult  obscene  obscene_and_insult  no_obscene_no_insult  \n",
       "0       0        0                   0                     0  \n",
       "1       0        0                   0                     0  \n",
       "2       0        0                   0                     0  \n",
       "3       0        0                   0                     0  \n",
       "4       0        0                   0                     0  "
      ]
     },
     "execution_count": 184,
     "metadata": {},
     "output_type": "execute_result"
    }
   ],
   "source": [
    "train_data.head()"
   ]
  },
  {
   "cell_type": "code",
   "execution_count": 185,
   "metadata": {},
   "outputs": [
    {
     "data": {
      "text/html": [
       "<div>\n",
       "<style scoped>\n",
       "    .dataframe tbody tr th:only-of-type {\n",
       "        vertical-align: middle;\n",
       "    }\n",
       "\n",
       "    .dataframe tbody tr th {\n",
       "        vertical-align: top;\n",
       "    }\n",
       "\n",
       "    .dataframe thead th {\n",
       "        text-align: right;\n",
       "    }\n",
       "</style>\n",
       "<table border=\"1\" class=\"dataframe\">\n",
       "  <thead>\n",
       "    <tr style=\"text-align: right;\">\n",
       "      <th></th>\n",
       "      <th>comment_text</th>\n",
       "      <th>is_toxic</th>\n",
       "      <th>toxic_level</th>\n",
       "      <th>insult</th>\n",
       "      <th>obscene</th>\n",
       "      <th>obscene_and_insult</th>\n",
       "      <th>no_obscene_no_insult</th>\n",
       "    </tr>\n",
       "  </thead>\n",
       "  <tbody>\n",
       "    <tr>\n",
       "      <th>0</th>\n",
       "      <td>Thank you for understanding. I think very high...</td>\n",
       "      <td>0</td>\n",
       "      <td>0</td>\n",
       "      <td>0</td>\n",
       "      <td>0</td>\n",
       "      <td>0</td>\n",
       "      <td>0</td>\n",
       "    </tr>\n",
       "    <tr>\n",
       "      <th>1</th>\n",
       "      <td>:Dear god this site is horrible.</td>\n",
       "      <td>0</td>\n",
       "      <td>0</td>\n",
       "      <td>0</td>\n",
       "      <td>0</td>\n",
       "      <td>0</td>\n",
       "      <td>0</td>\n",
       "    </tr>\n",
       "    <tr>\n",
       "      <th>2</th>\n",
       "      <td>\"::: Somebody will invariably try to add Relig...</td>\n",
       "      <td>0</td>\n",
       "      <td>0</td>\n",
       "      <td>0</td>\n",
       "      <td>0</td>\n",
       "      <td>0</td>\n",
       "      <td>0</td>\n",
       "    </tr>\n",
       "    <tr>\n",
       "      <th>3</th>\n",
       "      <td>\" \\n\\n It says it right there that it IS a typ...</td>\n",
       "      <td>0</td>\n",
       "      <td>0</td>\n",
       "      <td>0</td>\n",
       "      <td>0</td>\n",
       "      <td>0</td>\n",
       "      <td>0</td>\n",
       "    </tr>\n",
       "    <tr>\n",
       "      <th>4</th>\n",
       "      <td>\" \\n\\n == Before adding a new product to the l...</td>\n",
       "      <td>0</td>\n",
       "      <td>0</td>\n",
       "      <td>0</td>\n",
       "      <td>0</td>\n",
       "      <td>0</td>\n",
       "      <td>0</td>\n",
       "    </tr>\n",
       "  </tbody>\n",
       "</table>\n",
       "</div>"
      ],
      "text/plain": [
       "                                        comment_text  is_toxic  toxic_level  \\\n",
       "0  Thank you for understanding. I think very high...         0            0   \n",
       "1                   :Dear god this site is horrible.         0            0   \n",
       "2  \"::: Somebody will invariably try to add Relig...         0            0   \n",
       "3  \" \\n\\n It says it right there that it IS a typ...         0            0   \n",
       "4  \" \\n\\n == Before adding a new product to the l...         0            0   \n",
       "\n",
       "   insult  obscene  obscene_and_insult  no_obscene_no_insult  \n",
       "0       0        0                   0                     0  \n",
       "1       0        0                   0                     0  \n",
       "2       0        0                   0                     0  \n",
       "3       0        0                   0                     0  \n",
       "4       0        0                   0                     0  "
      ]
     },
     "execution_count": 185,
     "metadata": {},
     "output_type": "execute_result"
    }
   ],
   "source": [
    "test_data.head()"
   ]
  },
  {
   "cell_type": "code",
   "execution_count": 186,
   "metadata": {},
   "outputs": [],
   "source": [
    "def preprocess(data):\n",
    "    data = data[['comment_text', 'is_toxic']]\n",
    "    tokenizer = nltk.WordPunctTokenizer()\n",
    "    data['comment_text'] = \\\n",
    "        data['comment_text'].apply(lambda x: tokenizer.tokenize(x.lower()))\n",
    "    data['comment_text'] = \\\n",
    "        data['comment_text'].apply(\n",
    "        lambda x: [w for w in x if all(c not in string.punctuation for c in w) and len(w) > 2]\n",
    "    )\n",
    "    data['comment_text'] = \\\n",
    "        data['comment_text'].apply(lambda x: [w for w in x if not w.isdigit()])\n",
    "    data['comment_text'] = data['comment_text'].apply(lambda x: ' '.join(x))\n",
    "\n",
    "    return data['comment_text'], data['is_toxic']"
   ]
  },
  {
   "cell_type": "code",
   "execution_count": 1,
   "metadata": {},
   "outputs": [],
   "source": [
    "X_train, y_train = preprocess(train_data)"
   ]
  },
  {
   "cell_type": "code",
   "execution_count": 194,
   "metadata": {},
   "outputs": [],
   "source": [
    "X_train, X_val, y_train, y_val = train_test_split(X_train, y_train, test_size=0.3)"
   ]
  },
  {
   "cell_type": "code",
   "execution_count": 2,
   "metadata": {},
   "outputs": [],
   "source": [
    "X_test, y_test = preprocess(test_data)"
   ]
  },
  {
   "cell_type": "code",
   "execution_count": 197,
   "metadata": {},
   "outputs": [],
   "source": [
    "tf = TfidfVectorizer(min_df=0.05, max_features=3000)"
   ]
  },
  {
   "cell_type": "code",
   "execution_count": 199,
   "metadata": {},
   "outputs": [],
   "source": [
    "X_train = tf.fit_transform(X_train)\n",
    "X_val, X_test = tf.transform(X_val), tf.transform(X_test)"
   ]
  },
  {
   "cell_type": "code",
   "execution_count": 202,
   "metadata": {},
   "outputs": [],
   "source": [
    "X_train = csr_matrix(hstack([csr_matrix(np.ones((X_train.shape[0], 1))), X_train]))\n",
    "X_val = csr_matrix(hstack([csr_matrix(np.ones((X_val.shape[0], 1))), X_val]))\n",
    "X_test = csr_matrix(hstack([csr_matrix(np.ones((X_test.shape[0], 1))), X_test]))\n",
    "\n",
    "y_train = 2 * y_train.values - 1\n",
    "y_val = 2 * y_val.values - 1\n",
    "y_test = 2 * y_test.values - 1"
   ]
  },
  {
   "cell_type": "code",
   "execution_count": 297,
   "metadata": {},
   "outputs": [],
   "source": [
    "alpha_list = np.logspace(0, -3, 10)\n",
    "beta_list = [0, 0.1, 0.2, 0.5, 1, 2, 5]"
   ]
  },
  {
   "cell_type": "code",
   "execution_count": 298,
   "metadata": {},
   "outputs": [],
   "source": [
    "history = defaultdict(dict)\n",
    "accs = defaultdict(dict)"
   ]
  },
  {
   "cell_type": "code",
   "execution_count": 299,
   "metadata": {},
   "outputs": [
    {
     "data": {
      "application/vnd.jupyter.widget-view+json": {
       "model_id": "a78c623e2710459b8326504c03b36763",
       "version_major": 2,
       "version_minor": 0
      },
      "text/plain": [
       "HBox(children=(IntProgress(value=0, max=10), HTML(value='')))"
      ]
     },
     "metadata": {},
     "output_type": "display_data"
    },
    {
     "name": "stdout",
     "output_type": "stream",
     "text": [
      "\n"
     ]
    }
   ],
   "source": [
    "for alpha in tqdm(alpha_list):\n",
    "    for beta in beta_list:\n",
    "        loss = BinaryLogisticLoss(l2_coef=0)\n",
    "        clf = LinearModel(loss, max_iter=100, step_alpha=alpha, step_beta=beta)\n",
    "        history[alpha][beta] = clf.fit(\n",
    "            X_train, y_train, X_val=X_val, y_val=y_val, trace=True\n",
    "        )\n",
    "        preds = clf.predict(X_val)\n",
    "        accs[alpha][beta] = balanced_accuracy_score(y_val, preds)"
   ]
  },
  {
   "cell_type": "code",
   "execution_count": 300,
   "metadata": {},
   "outputs": [
    {
     "data": {
      "application/vnd.jupyter.widget-view+json": {
       "model_id": "72cd0a63c38a45a4a63ca0bc50593f4e",
       "version_major": 2,
       "version_minor": 0
      },
      "text/plain": [
       "HBox(children=(IntProgress(value=0, max=10), HTML(value='')))"
      ]
     },
     "metadata": {},
     "output_type": "display_data"
    },
    {
     "name": "stdout",
     "output_type": "stream",
     "text": [
      "\n"
     ]
    }
   ],
   "source": [
    "acc_max = 0\n",
    "\n",
    "for alpha in tqdm(alpha_list):\n",
    "    for beta in beta_list:\n",
    "        if accs[alpha][beta] > acc_max:\n",
    "            acc_max = accs[alpha][beta]\n",
    "            alpha_max = alpha\n",
    "            beta_max = beta"
   ]
  },
  {
   "cell_type": "code",
   "execution_count": 301,
   "metadata": {},
   "outputs": [
    {
     "data": {
      "text/plain": [
       "(0.7053918752429964, 1.0, 0)"
      ]
     },
     "execution_count": 301,
     "metadata": {},
     "output_type": "execute_result"
    }
   ],
   "source": [
    "acc_max, alpha_max, beta_max"
   ]
  },
  {
   "cell_type": "code",
   "execution_count": 302,
   "metadata": {},
   "outputs": [
    {
     "data": {
      "application/vnd.jupyter.widget-view+json": {
       "model_id": "1584e93980bd4d3cb1dacbfd88bd4ccd",
       "version_major": 2,
       "version_minor": 0
      },
      "text/plain": [
       "HBox(children=(IntProgress(value=0, max=10), HTML(value='')))"
      ]
     },
     "metadata": {},
     "output_type": "display_data"
    },
    {
     "name": "stdout",
     "output_type": "stream",
     "text": [
      "\n"
     ]
    }
   ],
   "source": [
    "acc_min = 1\n",
    "\n",
    "for alpha in tqdm(alpha_list):\n",
    "    for beta in beta_list:\n",
    "        if accs[alpha][beta] < acc_min:\n",
    "            acc_min = accs[alpha][beta]\n",
    "            alpha_min = alpha\n",
    "            beta_min = beta"
   ]
  },
  {
   "cell_type": "code",
   "execution_count": 303,
   "metadata": {},
   "outputs": [
    {
     "data": {
      "text/plain": [
       "(0.49881762345954284, 0.1, 5)"
      ]
     },
     "execution_count": 303,
     "metadata": {},
     "output_type": "execute_result"
    }
   ],
   "source": [
    "acc_min, alpha_min, beta_min"
   ]
  },
  {
   "cell_type": "code",
   "execution_count": 309,
   "metadata": {},
   "outputs": [],
   "source": [
    "len_best = len(history[alpha_max][beta_max]['func'])\n",
    "len_worst = len(history[alpha_min][beta_min]['func'])"
   ]
  },
  {
   "cell_type": "code",
   "execution_count": 310,
   "metadata": {},
   "outputs": [
    {
     "data": {
      "image/png": "[encoded data removed]",
      "text/plain": [
       "<Figure size 432x288 with 1 Axes>"
      ]
     },
     "metadata": {
      "needs_background": "light"
     },
     "output_type": "display_data"
    }
   ],
   "source": [
    "plt.plot(np.arange(len_best), history[alpha_max][beta_max]['func'], label='best')\n",
    "plt.plot(np.arange(len_worst), history[alpha_min][beta_min]['func'], label='worst')\n",
    "plt.legend();"
   ]
  },
  {
   "cell_type": "code",
   "execution_count": 311,
   "metadata": {},
   "outputs": [
    {
     "data": {
      "image/png": "[encoded data removed]",
      "text/plain": [
       "<Figure size 432x288 with 1 Axes>"
      ]
     },
     "metadata": {
      "needs_background": "light"
     },
     "output_type": "display_data"
    }
   ],
   "source": [
    "plt.plot(np.arange(len_best), history[alpha_max][beta_max]['func_val'], label='best')\n",
    "plt.plot(np.arange(len_worst), history[alpha_min][beta_min]['func_val'], label='worst')\n",
    "plt.legend();"
   ]
  },
  {
   "cell_type": "code",
   "execution_count": 312,
   "metadata": {},
   "outputs": [
    {
     "data": {
      "image/png": "[encoded data removed]",
      "text/plain": [
       "<Figure size 432x288 with 1 Axes>"
      ]
     },
     "metadata": {
      "needs_background": "light"
     },
     "output_type": "display_data"
    }
   ],
   "source": [
    "plt.plot(np.arange(len_best), history[alpha_max][beta_max]['time'], label='best')\n",
    "plt.plot(np.arange(len_worst), history[alpha_min][beta_min]['time'], label='worst')\n",
    "plt.legend();"
   ]
  },
  {
   "cell_type": "code",
   "execution_count": 313,
   "metadata": {},
   "outputs": [],
   "source": [
    "batch_size_list = [256, 1024, 4096, 16384, 65536]"
   ]
  },
  {
   "cell_type": "code",
   "execution_count": 314,
   "metadata": {},
   "outputs": [],
   "source": [
    "history = defaultdict(lambda: defaultdict(dict))\n",
    "accs = defaultdict(lambda: defaultdict(dict))"
   ]
  },
  {
   "cell_type": "code",
   "execution_count": 315,
   "metadata": {},
   "outputs": [
    {
     "data": {
      "application/vnd.jupyter.widget-view+json": {
       "model_id": "fb80be5fa84740a5941479f575234f79",
       "version_major": 2,
       "version_minor": 0
      },
      "text/plain": [
       "HBox(children=(IntProgress(value=0, max=5), HTML(value='')))"
      ]
     },
     "metadata": {},
     "output_type": "display_data"
    },
    {
     "name": "stdout",
     "output_type": "stream",
     "text": [
      "\n"
     ]
    }
   ],
   "source": [
    "for b_size in tqdm(batch_size_list):\n",
    "    for alpha in alpha_list:\n",
    "        for beta in beta_list:\n",
    "            loss = BinaryLogisticLoss(l2_coef=0)\n",
    "            clf = LinearModel(\n",
    "                loss, max_iter=100, batch_size=b_size,\n",
    "                step_alpha=alpha, step_beta=beta\n",
    "            )\n",
    "            history[b_size][alpha][beta] = clf.fit(\n",
    "                X_train, y_train, X_val=X_val, y_val=y_val, trace=True\n",
    "            )\n",
    "            preds = clf.predict(X_val)\n",
    "            accs[b_size][alpha][beta] = balanced_accuracy_score(y_val, preds)"
   ]
  },
  {
   "cell_type": "code",
   "execution_count": 316,
   "metadata": {},
   "outputs": [],
   "source": [
    "acc_max = 0\n",
    "\n",
    "for b_size in batch_size_list:\n",
    "    for alpha in alpha_list:\n",
    "        for beta in beta_list:\n",
    "            if accs[b_size][alpha][beta] > acc_max:\n",
    "                acc_max = accs[b_size][alpha][beta]\n",
    "                alpha_max = alpha\n",
    "                beta_max = beta\n",
    "                bs_max = b_size"
   ]
  },
  {
   "cell_type": "code",
   "execution_count": 317,
   "metadata": {},
   "outputs": [
    {
     "data": {
      "text/plain": [
       "(0.7083030444480223, 1.0, 0, 1024)"
      ]
     },
     "execution_count": 317,
     "metadata": {},
     "output_type": "execute_result"
    }
   ],
   "source": [
    "acc_max, alpha_max, beta_max, bs_max"
   ]
  },
  {
   "cell_type": "code",
   "execution_count": 318,
   "metadata": {},
   "outputs": [],
   "source": [
    "len_best = len(history[bs_max][alpha_max][beta_max]['func'])"
   ]
  },
  {
   "cell_type": "code",
   "execution_count": 321,
   "metadata": {},
   "outputs": [
    {
     "data": {
      "text/plain": [
       "[<matplotlib.lines.Line2D at 0x7fdf68e6e0f0>]"
      ]
     },
     "execution_count": 321,
     "metadata": {},
     "output_type": "execute_result"
    },
    {
     "data": {
      "image/png": "[encoded data removed]",
      "text/plain": [
       "<Figure size 432x288 with 1 Axes>"
      ]
     },
     "metadata": {
      "needs_background": "light"
     },
     "output_type": "display_data"
    }
   ],
   "source": [
    "plt.plot(np.arange(len_best), history[bs_max][alpha_max][beta_max]['time'], label='best')"
   ]
  },
  {
   "cell_type": "code",
   "execution_count": 323,
   "metadata": {},
   "outputs": [],
   "source": [
    "clf = LinearModel(\n",
    "                loss, max_iter=100, batch_size=bs_max,\n",
    "                step_alpha=alpha_max, step_beta=beta_max\n",
    "            )"
   ]
  },
  {
   "cell_type": "code",
   "execution_count": 324,
   "metadata": {},
   "outputs": [
    {
     "data": {
      "text/plain": [
       "defaultdict(list, {})"
      ]
     },
     "execution_count": 324,
     "metadata": {},
     "output_type": "execute_result"
    }
   ],
   "source": [
    "clf.fit(X_train, y_train, X_val=X_val, y_val=y_val, trace=False)"
   ]
  },
  {
   "cell_type": "code",
   "execution_count": 325,
   "metadata": {},
   "outputs": [
    {
     "data": {
      "text/plain": [
       "0.667023834686535"
      ]
     },
     "execution_count": 325,
     "metadata": {},
     "output_type": "execute_result"
    }
   ],
   "source": [
    "balanced_accuracy_score(y_test, clf.predict(X_test))"
   ]
  }
 ],
 "metadata": {
  "kernelspec": {
   "display_name": "Python 3",
   "language": "python",
   "name": "python3"
  },
  "language_info": {
   "codemirror_mode": {
    "name": "ipython",
    "version": 3
   },
   "file_extension": ".py",
   "mimetype": "text/x-python",
   "name": "python",
   "nbconvert_exporter": "python",
   "pygments_lexer": "ipython3",
   "version": "3.7.3"
  }
 },
 "nbformat": 4,
 "nbformat_minor": 4
}
